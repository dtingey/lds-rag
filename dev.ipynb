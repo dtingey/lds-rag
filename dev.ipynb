{
 "cells": [
  {
   "cell_type": "code",
   "execution_count": 1,
   "metadata": {},
   "outputs": [],
   "source": [
    "import os\n",
    "import json\n",
    "import uuid\n",
    "\n",
    "from llama_index.readers.json import JSONReader\n",
    "from llama_index.core import Document\n",
    "\n",
    "file_path = \"/Users/damontingey/personal/lds-rag/data/scriptures/flat/book-of-mormon-flat.json\"\n",
    "dir_path = \"/Users/damontingey/personal/lds-rag/data/scriptures/flat\"\n",
    "\n",
    "class CustomJSONReader(JSONReader):\n",
    "    def load_data(self, input_file):\n",
    "        with open(input_file, 'r') as file:\n",
    "            data = json.load(file)\n",
    "        \n",
    "        documents = []\n",
    "        for item in data.get('headings', []):\n",
    "            documents.append(Document(id_=str(uuid.uuid4()), text=item['text'], metadata={'reference': item['reference']}))\n",
    "        \n",
    "        for item in data.get('verses', []):\n",
    "            documents.append(Document(id_=str(uuid.uuid4()), text=item['text'], metadata={'reference': item['reference']}))\n",
    "        \n",
    "        return documents\n",
    "    \n",
    "    def load_dir(self, input_dir: dir):\n",
    "        documents = []\n",
    "        for file in os.listdir(input_dir):\n",
    "            if file.endswith(\".json\"):\n",
    "                documents.extend(self.load_data(os.path.join(input_dir, file)))\n",
    "        return documents\n",
    "\n",
    "documents = CustomJSONReader().load_data(file_path)\n",
    "more_documents = CustomJSONReader().load_dir(dir_path)"
   ]
  },
  {
   "cell_type": "code",
   "execution_count": 3,
   "metadata": {},
   "outputs": [
    {
     "data": {
      "text/plain": [
       "Document(id_='3cd522f3-3f45-4ee4-a9c2-2c542e148b4e', embedding=None, metadata={'reference': '2 Nephi'}, excluded_embed_metadata_keys=[], excluded_llm_metadata_keys=[], relationships={}, text=\"An account of the death of Lehi. Nephi's brethren rebel against him. The Lord warns Nephi to depart into the wilderness. His journeyings in the wilderness, and so forth.\", mimetype='text/plain', start_char_idx=None, end_char_idx=None, text_template='{metadata_str}\\n\\n{content}', metadata_template='{key}: {value}', metadata_seperator='\\n')"
      ]
     },
     "execution_count": 3,
     "metadata": {},
     "output_type": "execute_result"
    }
   ],
   "source": [
    "documents[1]"
   ]
  },
  {
   "cell_type": "code",
   "execution_count": 4,
   "metadata": {},
   "outputs": [
    {
     "data": {
      "text/plain": [
       "6626"
      ]
     },
     "execution_count": 4,
     "metadata": {},
     "output_type": "execute_result"
    }
   ],
   "source": [
    "len(documents)"
   ]
  },
  {
   "cell_type": "code",
   "execution_count": 5,
   "metadata": {},
   "outputs": [
    {
     "name": "stderr",
     "output_type": "stream",
     "text": [
      "/Users/damontingey/personal/lds-rag/.venv/lib/python3.12/site-packages/tqdm/auto.py:21: TqdmWarning: IProgress not found. Please update jupyter and ipywidgets. See https://ipywidgets.readthedocs.io/en/stable/user_install.html\n",
      "  from .autonotebook import tqdm as notebook_tqdm\n",
      "Fetching 5 files: 100%|██████████| 5/5 [00:00<00:00, 101311.69it/s]\n"
     ]
    },
    {
     "name": "stdout",
     "output_type": "stream",
     "text": [
      "6626\n"
     ]
    }
   ],
   "source": [
    "import os\n",
    "import logging\n",
    "import qdrant_client\n",
    "from llama_index.llms.ollama import Ollama\n",
    "from llama_index.core import (\n",
    "    StorageContext,\n",
    "    Settings,\n",
    "    VectorStoreIndex,\n",
    "    SimpleDirectoryReader,\n",
    ")\n",
    "from llama_index.vector_stores.qdrant import QdrantVectorStore\n",
    "from llama_index.embeddings.fastembed import FastEmbedEmbedding\n",
    "from llama_index.postprocessor.colbert_rerank import ColbertRerank\n",
    "\n",
    "Settings.embed_model = FastEmbedEmbedding(model_name=\"BAAI/bge-small-en-v1.5\")\n",
    "print(len(documents))\n",
    "documents_ = documents[:1000]\n",
    "\n",
    "client = qdrant_client.QdrantClient(host=\"localhost\", port=6333)\n",
    "\n",
    "vector_store = QdrantVectorStore(client=client, collection_name=\"test\")\n",
    "storage_context = StorageContext.from_defaults(vector_store=vector_store)\n",
    "\n",
    "index = VectorStoreIndex.from_documents(documents_, storage_context=storage_context)\n",
    "retriever = index.as_retriever(similarity_top_k=100)\n",
    "\n",
    "colbert_reranker = ColbertRerank(\n",
    "    top_n=5,\n",
    "    model=\"colbert-ir/colbertv2.0\",\n",
    "    tokenizer=\"colbert-ir/colbertv2.0\",\n",
    "    keep_retrieval_score=True,\n",
    ")\n"
   ]
  },
  {
   "cell_type": "code",
   "execution_count": 123,
   "metadata": {},
   "outputs": [],
   "source": [
    "retriever = index.as_retriever(similarity_top_k=100)\n",
    "response = retriever.retrieve(\"What is the Spirit?\")"
   ]
  },
  {
   "cell_type": "code",
   "execution_count": 8,
   "metadata": {},
   "outputs": [
    {
     "data": {
      "text/plain": [
       "28"
      ]
     },
     "execution_count": 8,
     "metadata": {},
     "output_type": "execute_result"
    }
   ],
   "source": [
    "len(response)"
   ]
  },
  {
   "cell_type": "code",
   "execution_count": 14,
   "metadata": {},
   "outputs": [
    {
     "data": {
      "text/plain": [
       "TextNode(id_='a7c0eeaf-a99b-4ad3-b608-9885a63d6c93', embedding=None, metadata={'reference': '1 Nephi 1:12'}, excluded_embed_metadata_keys=[], excluded_llm_metadata_keys=[], relationships={<NodeRelationship.SOURCE: '1'>: RelatedNodeInfo(node_id='f8ce99b2-9242-4677-95c7-75db279928f1', node_type=<ObjectType.DOCUMENT: '4'>, metadata={'reference': '1 Nephi 1:12'}, hash='3211186358df3f85fd26ccd597ef96afe3e99ca62810a96b1d6a88440d8a9811')}, text='And it came to pass that as he read, he was filled with the Spirit of the Lord.', mimetype='text/plain', start_char_idx=0, end_char_idx=79, text_template='{metadata_str}\\n\\n{content}', metadata_template='{key}: {value}', metadata_seperator='\\n')"
      ]
     },
     "execution_count": 14,
     "metadata": {},
     "output_type": "execute_result"
    }
   ],
   "source": [
    "response[0].node"
   ]
  },
  {
   "cell_type": "code",
   "execution_count": 9,
   "metadata": {},
   "outputs": [
    {
     "name": "stdout",
     "output_type": "stream",
     "text": [
      "0.66517806 1 Nephi 1:12: And it came to pass that as he read, he was filled with the Spirit of the Lord.\n",
      "0.6564901 1 Nephi 11:2: And the Spirit said unto me: Behold, what desirest thou?\n",
      "0.64928293 2 Nephi 9:10: O how great the goodness of our God, who prepareth a way for our escape from the grasp of this awful monster; yea, that monster, death and hell, which I call the death of the body, and also the death of the spirit.\n",
      "0.64354265 1 Nephi 11:6: And when I had spoken these words, the Spirit cried with a loud voice, saying: Hosanna to the Lord, the most high God; for he is God over all the earth, yea, even above all. And blessed art thou, Nephi, because thou believest in the Son of the most high God; wherefore, thou shalt behold the things which thou hast desired.\n",
      "0.6418716 1 Nephi 11:4: And the Spirit said unto me: Believest thou that thy father saw the tree of which he hath spoken?\n",
      "0.63292325 1 Nephi 17:47: Behold, my soul is rent with anguish because of you, and my heart is pained; I fear lest ye shall be cast off forever. Behold, I am full of the Spirit of God, insomuch that my frame has no strength.\n",
      "0.62612426 1 Nephi 4:6: And I was led by the Spirit, not knowing beforehand the things which I should do.\n",
      "0.623199 2 Nephi 9:13: O how great the plan of our God! For on the other hand, the paradise of God must deliver up the spirits of the righteous, and the grave deliver up the body of the righteous; and the spirit and the body is restored to itself again, and all men become incorruptible, and immortal, and they are living souls, having a perfect knowledge like unto us in the flesh, save it be that our knowledge shall be perfect.\n",
      "0.61649907 1 Nephi 22:1: And now it came to pass that after I, Nephi, had read these things which were engraven upon the plates of brass, my brethren came unto me and said unto me: What meaneth these things which ye have read? Behold, are they to be understood according to things which are spiritual, which shall come to pass according to the spirit and not the flesh?\n",
      "0.61617565 1 Nephi 11:9: And it came to pass after I had seen the tree, I said unto the Spirit: I behold thou hast shown unto me the tree which is precious above all.\n",
      "0.61458707 2 Nephi 9:12: And this death of which I have spoken, which is the spiritual death, shall deliver up its dead; which spiritual death is hell; wherefore, death and hell must deliver up their dead, and hell must deliver up its captive spirits, and the grave must deliver up its captive bodies, and the bodies and the spirits of men will be restored one to the other; and it is by the power of the resurrection of the Holy One of Israel.\n",
      "0.6123155 1 Nephi 14:30: And now I make an end of speaking concerning the things which I saw while I was carried away in the Spirit; and if all the things which I saw are not written, the things which I have written are true. And thus it is. Amen.\n",
      "0.6107621 1 Nephi 11:8: And it came to pass that the Spirit said unto me: Look! And I looked and beheld a tree; and it was like unto the tree which my father had seen; and the beauty thereof was far beyond, yea, exceeding of all beauty; and the whiteness thereof did exceed the whiteness of the driven snow.\n",
      "0.6098062 1 Nephi 19:20: For behold, I have workings in the spirit, which doth weary me even that all my joints are weak, for those who are at Jerusalem; for had not the Lord been merciful, to show unto me concerning them, even as he had prophets of old, I should have perished also.\n",
      "0.60834336 1 Nephi 11:11: And I said unto him: To know the interpretation thereof—for I spake unto him as a man speaketh; for I beheld that he was in the form of a man; yet nevertheless, I knew that it was the Spirit of the Lord; and he spake unto me as a man speaketh with another.\n",
      "0.6068662 1 Nephi 22:2: And I, Nephi, said unto them: Behold they were manifest unto the prophet by the voice of the Spirit; for by the Spirit are all things made known unto the prophets, which shall come upon the children of men according to the flesh.\n",
      "0.6023814 1 Nephi 1:8: And being thus overcome with the Spirit, he was carried away in a vision, even that he saw the heavens open, and he thought he saw God sitting upon his throne, surrounded with numberless concourses of angels in the attitude of singing and praising their God.\n",
      "0.6014185 2 Nephi 4:16: Behold, my soul delighteth in the things of the Lord; and my heart pondereth continually upon the things which I have seen and heard.\n",
      "0.60033345 1 Nephi 5:17: And now when my father saw all these things, he was filled with the Spirit, and began to prophesy concerning his seed—\n",
      "0.6002111 1 Nephi 15:31: And they said unto me: Doth this thing mean the torment of the body in the days of probation, or doth it mean the final state of the soul after the death of the temporal body, or doth it speak of the things which are temporal?\n",
      "0.5998075 1 Nephi 15:21: And it came to pass that they did speak unto me again, saying: What meaneth this thing which our father saw in a dream? What meaneth the tree which he saw?\n",
      "0.5980872 2 Nephi 1:6: Wherefore, I, Lehi, prophesy according to the workings of the Spirit which is in me, that there shall none come into this land save they shall be brought by the hand of the Lord.\n",
      "0.5963856 1 Nephi 11:19: And it came to pass that I beheld that she was carried away in the Spirit; and after she had been carried away in the Spirit for the space of a time the angel spake unto me, saying: Look!\n",
      "0.5929237 1 Nephi 10:19: For he that diligently seeketh shall find; and the mysteries of God shall be unfolded unto them, by the power of the Holy Ghost, as well in these times as in times of old, and as well in times of old as in times to come; wherefore, the course of the Lord is one eternal round.\n",
      "0.5916509 2 Nephi 1:27: And it must needs be that the power of God must be with him, even unto his commanding you that ye must obey. But behold, it was not he, but it was the Spirit of the Lord which was in him, which opened his mouth to utterance that he could not shut it.\n",
      "0.5887595 1 Nephi 10:17: And it came to pass after I, Nephi, having heard all the words of my father, concerning the things which he saw in a vision, and also the things which he spake by the power of the Holy Ghost, which power he received by faith on the Son of God—and the Son of God was the Messiah who should come—I, Nephi, was desirous also that I might see, and hear, and know of these things, by the power of the Holy Ghost, which is the gift of God unto all those who diligently seek him, as well in times of old as in the time that he should manifest himself unto the children of men.\n",
      "0.58867276 1 Nephi 7:14: For behold, the Spirit of the Lord ceaseth soon to strive with them; for behold, they have rejected the prophets, and Jeremiah have they cast into prison. And they have sought to take away the life of my father, insomuch that they have driven him out of the land.\n",
      "0.5869924 1 Nephi 4:18: Therefore I did obey the voice of the Spirit, and took Laban by the hair of the head, and I smote off his head with his own sword.\n"
     ]
    }
   ],
   "source": [
    "for item in response:\n",
    "    print(f\"{item.score} {item.metadata['reference']}: {item.text}\")"
   ]
  },
  {
   "cell_type": "code",
   "execution_count": 6,
   "metadata": {},
   "outputs": [
    {
     "name": "stderr",
     "output_type": "stream",
     "text": [
      "/Users/damontingey/personal/lds-rag/.venv/lib/python3.12/site-packages/transformers/tokenization_utils_base.py:1601: FutureWarning: `clean_up_tokenization_spaces` was not set. It will be set to `True` by default. This behavior will be depracted in transformers v4.45, and will be then set to `False` by default. For more details check this issue: https://github.com/huggingface/transformers/issues/31884\n",
      "  warnings.warn(\n"
     ]
    }
   ],
   "source": [
    "from llama_index.postprocessor.colbert_rerank import ColbertRerank\n",
    "\n",
    "colbert_reranker = ColbertRerank(\n",
    "    top_n=5,\n",
    "    model=\"colbert-ir/colbertv2.0\",\n",
    "    tokenizer=\"colbert-ir/colbertv2.0\",\n",
    "    keep_retrieval_score=True,\n",
    ")"
   ]
  },
  {
   "cell_type": "code",
   "execution_count": 7,
   "metadata": {},
   "outputs": [],
   "source": [
    "retriever = index.as_retriever(similarity_top_k=100, node_postprocessor=colbert_reranker)\n",
    "response = retriever.retrieve(\"What is the Spirit?\")"
   ]
  },
  {
   "cell_type": "code",
   "execution_count": 16,
   "metadata": {},
   "outputs": [
    {
     "data": {
      "text/plain": [
       "[NodeWithScore(node=TextNode(id_='73d332da-37ea-4913-a177-9e55fe8a7e8b', embedding=None, metadata={'reference': '1 Nephi 11:2', 'retrieval_score': 0.6564901}, excluded_embed_metadata_keys=[], excluded_llm_metadata_keys=[], relationships={<NodeRelationship.SOURCE: '1'>: RelatedNodeInfo(node_id='09c1f675-7ea3-40f5-9487-2975160cf448', node_type=<ObjectType.DOCUMENT: '4'>, metadata={'reference': '1 Nephi 11:2'}, hash='f984198ed6e479ad2f12c0fbe0b75bd91c9a7785d3c9d70bf880671592bbb6ac')}, text='And the Spirit said unto me: Behold, what desirest thou?', mimetype='text/plain', start_char_idx=0, end_char_idx=56, text_template='{metadata_str}\\n\\n{content}', metadata_template='{key}: {value}', metadata_seperator='\\n'), score=0.55892413854599),\n",
       " NodeWithScore(node=TextNode(id_='9019ec5d-a53e-4fdd-bce4-a41f5c481d5c', embedding=None, metadata={'reference': '1 Nephi 1:8', 'retrieval_score': 0.6023814}, excluded_embed_metadata_keys=[], excluded_llm_metadata_keys=[], relationships={<NodeRelationship.SOURCE: '1'>: RelatedNodeInfo(node_id='3ebf89ae-b39c-4215-a964-606fcede8e6a', node_type=<ObjectType.DOCUMENT: '4'>, metadata={'reference': '1 Nephi 1:8'}, hash='a3f09652b0fa0f6e9c87cdf38e5c390a979b3e10862162da1277597d9d2f2bf3')}, text='And being thus overcome with the Spirit, he was carried away in a vision, even that he saw the heavens open, and he thought he saw God sitting upon his throne, surrounded with numberless concourses of angels in the attitude of singing and praising their God.', mimetype='text/plain', start_char_idx=0, end_char_idx=258, text_template='{metadata_str}\\n\\n{content}', metadata_template='{key}: {value}', metadata_seperator='\\n'), score=0.5470575094223022),\n",
       " NodeWithScore(node=TextNode(id_='e13341d9-2fef-410d-a9e0-d0f94429e495', embedding=None, metadata={'reference': '1 Nephi 11:6', 'retrieval_score': 0.64354265}, excluded_embed_metadata_keys=[], excluded_llm_metadata_keys=[], relationships={<NodeRelationship.SOURCE: '1'>: RelatedNodeInfo(node_id='02b3baa3-3410-4c1f-8ec3-7a55c63cf7d0', node_type=<ObjectType.DOCUMENT: '4'>, metadata={'reference': '1 Nephi 11:6'}, hash='996454e8e839e431f23fcf82b4da5d6fb99454f1ffe37926a8732df322ce02a1')}, text='And when I had spoken these words, the Spirit cried with a loud voice, saying: Hosanna to the Lord, the most high God; for he is God over all the earth, yea, even above all. And blessed art thou, Nephi, because thou believest in the Son of the most high God; wherefore, thou shalt behold the things which thou hast desired.', mimetype='text/plain', start_char_idx=0, end_char_idx=323, text_template='{metadata_str}\\n\\n{content}', metadata_template='{key}: {value}', metadata_seperator='\\n'), score=0.5464531183242798),\n",
       " NodeWithScore(node=TextNode(id_='012c15d6-c21c-4c20-b555-79740fcf9933', embedding=None, metadata={'reference': '2 Nephi 9:10', 'retrieval_score': 0.64928293}, excluded_embed_metadata_keys=[], excluded_llm_metadata_keys=[], relationships={<NodeRelationship.SOURCE: '1'>: RelatedNodeInfo(node_id='04ffa39c-b4e3-4c9c-9f5a-8a0b2ac9e786', node_type=<ObjectType.DOCUMENT: '4'>, metadata={'reference': '2 Nephi 9:10'}, hash='5428cd40c93cd67c2959d629624f5ccdcd7d972a68d677db4f48a19fcdb477e6')}, text='O how great the goodness of our God, who prepareth a way for our escape from the grasp of this awful monster; yea, that monster, death and hell, which I call the death of the body, and also the death of the spirit.', mimetype='text/plain', start_char_idx=0, end_char_idx=214, text_template='{metadata_str}\\n\\n{content}', metadata_template='{key}: {value}', metadata_seperator='\\n'), score=0.54631108045578),\n",
       " NodeWithScore(node=TextNode(id_='7c863be4-2451-4be8-9e5c-f62ab3a1d845', embedding=None, metadata={'reference': '2 Nephi 1:6', 'retrieval_score': 0.5980872}, excluded_embed_metadata_keys=[], excluded_llm_metadata_keys=[], relationships={<NodeRelationship.SOURCE: '1'>: RelatedNodeInfo(node_id='6a75eb26-f12b-41f8-a84c-ca74a5acf1cd', node_type=<ObjectType.DOCUMENT: '4'>, metadata={'reference': '2 Nephi 1:6'}, hash='fca3f5dd147854b14ee28c03b10eaecaed5ad51e16fa091fe34432feb79dd35d')}, text='Wherefore, I, Lehi, prophesy according to the workings of the Spirit which is in me, that there shall none come into this land save they shall be brought by the hand of the Lord.', mimetype='text/plain', start_char_idx=0, end_char_idx=178, text_template='{metadata_str}\\n\\n{content}', metadata_template='{key}: {value}', metadata_seperator='\\n'), score=0.545576274394989)]"
      ]
     },
     "execution_count": 16,
     "metadata": {},
     "output_type": "execute_result"
    }
   ],
   "source": [
    "colbert_reranker.postprocess_nodes(response, query_str=\"What is the Spirit?\")"
   ]
  },
  {
   "cell_type": "code",
   "execution_count": null,
   "metadata": {},
   "outputs": [],
   "source": []
  }
 ],
 "metadata": {
  "kernelspec": {
   "display_name": ".venv",
   "language": "python",
   "name": "python3"
  },
  "language_info": {
   "codemirror_mode": {
    "name": "ipython",
    "version": 3
   },
   "file_extension": ".py",
   "mimetype": "text/x-python",
   "name": "python",
   "nbconvert_exporter": "python",
   "pygments_lexer": "ipython3",
   "version": "3.12.4"
  }
 },
 "nbformat": 4,
 "nbformat_minor": 2
}
