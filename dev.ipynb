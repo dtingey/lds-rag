{
 "cells": [
  {
   "cell_type": "code",
   "execution_count": 19,
   "metadata": {},
   "outputs": [],
   "source": [
    "import os\n",
    "import json\n",
    "import uuid\n",
    "\n",
    "from llama_index.readers.json import JSONReader\n",
    "from llama_index.core import Document\n",
    "\n",
    "file_path = \"/Users/damontingey/personal/lds-rag/data/scriptures/flat/book-of-mormon-flat.json\"\n",
    "dir_path = \"/Users/damontingey/personal/lds-rag/data/scriptures/flat\"\n",
    "\n",
    "class CustomJSONReader(JSONReader):\n",
    "    def load_data(self, input_file):\n",
    "        with open(input_file, 'r') as file:\n",
    "            data = json.load(file)\n",
    "        \n",
    "        documents = []\n",
    "        for item in data.get('headings', []):\n",
    "            documents.append(Document(id_=str(uuid.uuid4()), text=item['text'], metadata={'reference': item['reference']}))\n",
    "        \n",
    "        for item in data.get('verses', []):\n",
    "            documents.append(Document(id_=str(uuid.uuid4()), text=item['text'], metadata={'reference': item['reference']}))\n",
    "        \n",
    "        return documents\n",
    "    \n",
    "    def load_dir(self, input_dir: dir):\n",
    "        documents = []\n",
    "        for file in os.listdir(input_dir):\n",
    "            if file.endswith(\".json\"):\n",
    "                documents.extend(self.load_data(os.path.join(input_dir, file)))\n",
    "        return documents\n",
    "\n",
    "documents = CustomJSONReader().load_data(file_path)\n",
    "more_documents = CustomJSONReader().load_dir(dir_path)"
   ]
  },
  {
   "cell_type": "code",
   "execution_count": 17,
   "metadata": {},
   "outputs": [
    {
     "data": {
      "text/plain": [
       "Document(id_='d5330fe2-9781-42f7-848b-deaee82c19cb', embedding=None, metadata={'reference': '2 Nephi'}, excluded_embed_metadata_keys=[], excluded_llm_metadata_keys=[], relationships={}, text=\"An account of the death of Lehi. Nephi's brethren rebel against him. The Lord warns Nephi to depart into the wilderness. His journeyings in the wilderness, and so forth.\", mimetype='text/plain', start_char_idx=None, end_char_idx=None, text_template='{metadata_str}\\n\\n{content}', metadata_template='{key}: {value}', metadata_seperator='\\n')"
      ]
     },
     "execution_count": 17,
     "metadata": {},
     "output_type": "execute_result"
    }
   ],
   "source": [
    "documents[1]"
   ]
  },
  {
   "cell_type": "code",
   "execution_count": 18,
   "metadata": {},
   "outputs": [
    {
     "data": {
      "text/plain": [
       "6626"
      ]
     },
     "execution_count": 18,
     "metadata": {},
     "output_type": "execute_result"
    }
   ],
   "source": [
    "len(documents)"
   ]
  },
  {
   "cell_type": "code",
   "execution_count": null,
   "metadata": {},
   "outputs": [],
   "source": []
  }
 ],
 "metadata": {
  "kernelspec": {
   "display_name": ".venv",
   "language": "python",
   "name": "python3"
  },
  "language_info": {
   "codemirror_mode": {
    "name": "ipython",
    "version": 3
   },
   "file_extension": ".py",
   "mimetype": "text/x-python",
   "name": "python",
   "nbconvert_exporter": "python",
   "pygments_lexer": "ipython3",
   "version": "3.12.4"
  }
 },
 "nbformat": 4,
 "nbformat_minor": 2
}
